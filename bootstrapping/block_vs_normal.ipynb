{
 "cells": [
  {
   "cell_type": "markdown",
   "metadata": {},
   "source": [
    "### Indepedent data with randomly assigned block labels"
   ]
  },
  {
   "cell_type": "code",
   "execution_count": 1,
   "metadata": {},
   "outputs": [],
   "source": [
    "import pandas as pd\n",
    "import numpy as np"
   ]
  },
  {
   "cell_type": "code",
   "execution_count": 2,
   "metadata": {},
   "outputs": [],
   "source": [
    "s_small = 1\n",
    "s_large = 5\n",
    "s_total = np.sqrt(s_small**2 + s_large**2)"
   ]
  },
  {
   "cell_type": "code",
   "execution_count": 4,
   "metadata": {},
   "outputs": [],
   "source": [
    "numbers = np.random.normal(size=5000, scale=s_total)\n",
    "labels = np.random.uniform(0,500,size=5000).astype(np.int)"
   ]
  },
  {
   "cell_type": "code",
   "execution_count": 5,
   "metadata": {},
   "outputs": [],
   "source": [
    "df = pd.DataFrame({'vals':numbers, 'cluster':labels})"
   ]
  },
  {
   "cell_type": "code",
   "execution_count": 6,
   "metadata": {},
   "outputs": [],
   "source": [
    "def weight_sn(df):\n",
    "    ncluster = df.groupby('cluster').size()\n",
    "\n",
    "    sampled = ncluster.sample(n=ncluster.index.size, replace=True)\n",
    "    scount = sampled.groupby(level=0).size()\n",
    "    scount.name = 'cw'\n",
    "\n",
    "    df = df.join(scount, on='cluster')\n",
    "    df.cw.fillna(0, inplace=True)\n",
    "\n",
    "    return df.cw"
   ]
  },
  {
   "cell_type": "code",
   "execution_count": 7,
   "metadata": {},
   "outputs": [],
   "source": [
    "standard = []\n",
    "for _ in range(10000):\n",
    "    standard += [np.mean(df.vals.sample(5000, replace=True))]"
   ]
  },
  {
   "cell_type": "code",
   "execution_count": 8,
   "metadata": {},
   "outputs": [],
   "source": [
    "block = []\n",
    "for _ in range(10000):\n",
    "    w = weight_sn(df)\n",
    "    block += [np.sum(df.vals*w)/np.sum(w)]"
   ]
  },
  {
   "cell_type": "code",
   "execution_count": 9,
   "metadata": {},
   "outputs": [
    {
     "name": "stdout",
     "output_type": "stream",
     "text": [
      "Standard: -0.027224918606523426 0.0731652042344793\n",
      "Block: -0.026851000393951108 0.07035613453086466\n",
      "Calculated: -0.027608366061573564 0.07233792541757868\n"
     ]
    }
   ],
   "source": [
    "print('Standard:', np.mean(standard), np.std(standard))\n",
    "print('Block:', np.mean(block), np.std(block))\n",
    "print('Calculated:', np.mean(df.vals), np.std(df.vals)/np.sqrt(5000))"
   ]
  },
  {
   "cell_type": "markdown",
   "metadata": {},
   "source": [
    "### Block sampled data"
   ]
  },
  {
   "cell_type": "code",
   "execution_count": 10,
   "metadata": {},
   "outputs": [],
   "source": [
    "numbers = np.random.normal(size=500, scale=s_large)\n",
    "numbers = np.random.normal(numbers, scale=s_small, size=(10,500)).transpose()"
   ]
  },
  {
   "cell_type": "code",
   "execution_count": 17,
   "metadata": {},
   "outputs": [],
   "source": [
    "df2 = pd.DataFrame({'vals': numbers.flatten(), 'cluster': np.repeat(np.arange(0,500,1),10)})"
   ]
  },
  {
   "cell_type": "code",
   "execution_count": 18,
   "metadata": {},
   "outputs": [],
   "source": [
    "standard = []\n",
    "for _ in range(10000):\n",
    "    standard += [np.mean(df2.vals.sample(5000, replace=True))]"
   ]
  },
  {
   "cell_type": "code",
   "execution_count": 19,
   "metadata": {},
   "outputs": [],
   "source": [
    "block = []\n",
    "for _ in range(10000):\n",
    "    w = weight_sn(df2)\n",
    "    block += [np.sum(df2.vals*w)/np.sum(w)]"
   ]
  },
  {
   "cell_type": "code",
   "execution_count": 20,
   "metadata": {},
   "outputs": [
    {
     "name": "stdout",
     "output_type": "stream",
     "text": [
      "Standard: 0.09165555019627283 0.06867501296904654\n",
      "Block: 0.08868715265947687 0.2143991695321291\n",
      "Calculated: 0.09133251721890298 0.06947236233136976\n"
     ]
    }
   ],
   "source": [
    "print('Standard:', np.mean(standard), np.std(standard))\n",
    "print('Block:', np.mean(block), np.std(block))\n",
    "print('Calculated:', np.mean(df2.vals), np.std(df2.vals)/np.sqrt(5000))"
   ]
  },
  {
   "cell_type": "code",
   "execution_count": null,
   "metadata": {},
   "outputs": [],
   "source": []
  }
 ],
 "metadata": {
  "kernelspec": {
   "display_name": "Python 3",
   "language": "python",
   "name": "python3"
  },
  "language_info": {
   "codemirror_mode": {
    "name": "ipython",
    "version": 3
   },
   "file_extension": ".py",
   "mimetype": "text/x-python",
   "name": "python",
   "nbconvert_exporter": "python",
   "pygments_lexer": "ipython3",
   "version": "3.8.1"
  }
 },
 "nbformat": 4,
 "nbformat_minor": 2
}
