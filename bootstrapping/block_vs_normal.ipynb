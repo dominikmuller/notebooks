{
 "cells": [
  {
   "cell_type": "code",
   "execution_count": 1,
   "metadata": {},
   "outputs": [],
   "source": [
    "import pandas as pd\n",
    "import numpy as np"
   ]
  },
  {
   "cell_type": "code",
   "execution_count": 2,
   "metadata": {},
   "outputs": [],
   "source": [
    "numbers = np.random.normal(size=10000)\n",
    "labels = np.random.uniform(0,1000,size=10000).astype(np.int)"
   ]
  },
  {
   "cell_type": "code",
   "execution_count": 3,
   "metadata": {},
   "outputs": [],
   "source": [
    "df = pd.DataFrame({'vals':numbers, 'cluster':labels})"
   ]
  },
  {
   "cell_type": "code",
   "execution_count": 4,
   "metadata": {},
   "outputs": [],
   "source": [
    "def weight_sn(df):\n",
    "    ncluster = df.groupby('cluster').size()\n",
    "\n",
    "    sampled = ncluster.sample(n=ncluster.index.size, replace=True)\n",
    "    scount = sampled.groupby(level=0).size()\n",
    "    scount.name = 'cw'\n",
    "\n",
    "    df = df.join(scount, on='cluster')\n",
    "    df.cw.fillna(0, inplace=True)\n",
    "    df['weight'] = 0.\n",
    "\n",
    "    return df.cw"
   ]
  },
  {
   "cell_type": "code",
   "execution_count": 5,
   "metadata": {},
   "outputs": [],
   "source": [
    "standard = []\n",
    "for _ in range(10000):\n",
    "    standard += [np.mean(df.vals.sample(np.random.poisson(10000), replace=True))]"
   ]
  },
  {
   "cell_type": "code",
   "execution_count": 6,
   "metadata": {},
   "outputs": [],
   "source": [
    "block = []\n",
    "for _ in range(10000):\n",
    "    w = weight_sn(df)\n",
    "    block += [np.sum(df.vals*w)/np.sum(w)]"
   ]
  },
  {
   "cell_type": "code",
   "execution_count": 7,
   "metadata": {},
   "outputs": [
    {
     "data": {
      "text/plain": [
       "(0.012315530807414352, 0.009930180760207992)"
      ]
     },
     "execution_count": 7,
     "metadata": {},
     "output_type": "execute_result"
    }
   ],
   "source": [
    "np.mean(standard), np.std(standard)"
   ]
  },
  {
   "cell_type": "code",
   "execution_count": 8,
   "metadata": {},
   "outputs": [
    {
     "data": {
      "text/plain": [
       "(0.012294408246194276, 0.009986003363795064)"
      ]
     },
     "execution_count": 8,
     "metadata": {},
     "output_type": "execute_result"
    }
   ],
   "source": [
    "np.mean(block), np.std(block)"
   ]
  }
 ],
 "metadata": {
  "kernelspec": {
   "display_name": "Python 3",
   "language": "python",
   "name": "python3"
  },
  "language_info": {
   "codemirror_mode": {
    "name": "ipython",
    "version": 3
   },
   "file_extension": ".py",
   "mimetype": "text/x-python",
   "name": "python",
   "nbconvert_exporter": "python",
   "pygments_lexer": "ipython3",
   "version": "3.6.4"
  }
 },
 "nbformat": 4,
 "nbformat_minor": 2
}
